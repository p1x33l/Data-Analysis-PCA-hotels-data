{
 "cells": [
  {
   "cell_type": "markdown",
   "id": "16db103c",
   "metadata": {},
   "source": [
    "### Importing necessary libraries"
   ]
  },
  {
   "cell_type": "code",
   "execution_count": null,
   "id": "3118e272",
   "metadata": {},
   "outputs": [],
   "source": [
    "import requests\n",
    "import pandas as pd\n",
    "import re\n",
    "from bs4 import BeautifulSoup"
   ]
  },
  {
   "cell_type": "markdown",
   "id": "e3e7bdcb",
   "metadata": {},
   "source": [
    "### Setting start and end date for the booking"
   ]
  },
  {
   "cell_type": "code",
   "execution_count": null,
   "id": "a87a3e77",
   "metadata": {},
   "outputs": [],
   "source": [
    "start_date = \"2022-12-23\"\n",
    "end_date = \"2022-12-24\""
   ]
  },
  {
   "cell_type": "markdown",
   "id": "3619655d",
   "metadata": {},
   "source": [
    "### Creating the URL for the booking search"
   ]
  },
  {
   "cell_type": "code",
   "execution_count": null,
   "id": "fa3189b0",
   "metadata": {},
   "outputs": [],
   "source": [
    "url = f\"https://www.booking.com/searchresults.fr.html?ss=Maroc&ssne=Maroc&ssne_untouched=Maroc&efdco=1&label=gen000nr-10CAIojAFCAm1hSA1YBGhNiAEBmAEzuAEFyAEe2AED6AEB-AEBiAIBqAIBuAK_lM6cBsACAdICJDdjNzllYWVmLWExZWMtNDM3Yy1iMDYyLTY4Y2EwMTVkNmMyNNgCAeACAQ&sid=6b1171757eb9061e068c6ef46fd0af2f&aid=304142&lang=fr&sb=1&src_elem=sb&src=searchresults&dest_id=143&dest_type=country&checkin={start_date}&checkout={end_date}&group_adults=2&no_rooms=1&group_children=0&sb_travel_purpose=leisure\""
   ]
  },
  {
   "cell_type": "markdown",
   "id": "33af11bc",
   "metadata": {},
   "source": [
    "### Setting headers for the requests"
   ]
  },
  {
   "cell_type": "code",
   "execution_count": null,
   "id": "6326aa9c",
   "metadata": {},
   "outputs": [],
   "source": [
    "headers = {\n",
    "    \"user-agent\": \"Mozilla/5.0 (Windows NT 10.0; Win64; x64) AppleWebKit/537.36 (KHTML, like Gecko) Chrome/108.0.0.0 Safari/537.36\"\n",
    "}"
   ]
  },
  {
   "cell_type": "markdown",
   "id": "3226d901",
   "metadata": {},
   "source": [
    "### Offset values for the booking search results (Number of hotels/Pages)"
   ]
  },
  {
   "cell_type": "code",
   "execution_count": null,
   "id": "33a62d7d",
   "metadata": {},
   "outputs": [],
   "source": [
    "offsets=[0,25,50,75,100,125,150,175,200,225,250,275,300,325,350,375,400,425,450,475,500]"
   ]
  },
  {
   "cell_type": "markdown",
   "id": "62377f0f",
   "metadata": {},
   "source": [
    "### Extract the links of the hotel booking pages"
   ]
  },
  {
   "cell_type": "code",
   "execution_count": null,
   "id": "c5dab55f",
   "metadata": {},
   "outputs": [],
   "source": [
    "links=[]\n",
    "for offset in offsets:\n",
    "    #send http req (GET)\n",
    "    response = requests.get(url+\"&offset=\"+str(offset), headers=headers)\n",
    "    #parse result\n",
    "    soup = BeautifulSoup(response.text, 'html.parser')\n",
    "    #extract links (a_href)\n",
    "    for link in soup.find_all(\"a\", class_=\"e13098a59f\"):\n",
    "        links.append(link['href'])\n",
    "        \n",
    "#removing duplicated links\n",
    "links = list(set(links))\n"
   ]
  },
  {
   "cell_type": "markdown",
   "id": "b80a4c32",
   "metadata": {},
   "source": [
    "### Extract the details of the hotels"
   ]
  },
  {
   "cell_type": "code",
   "execution_count": null,
   "id": "0a8eb8b6",
   "metadata": {},
   "outputs": [],
   "source": [
    "errors=0\n",
    "hotels=[]\n",
    "hotels_names=[]\n",
    "for link in links:\n",
    "    try:\n",
    "        link_resp = requests.get(link, headers=headers)\n",
    "        link_soup = BeautifulSoup(link_resp.text, 'html.parser')\n",
    "        hotel={}\n",
    "        hotel_name=link_soup.find(\"h2\", class_=\"pp-header__title\").text\n",
    "    \n",
    "        # Checking if the hotel has already been processed\n",
    "        if hotel_name in hotels_names:\n",
    "            continue\n",
    "        hotels_names.append(hotel_name)\n",
    "        hotel['name'] = hotel_name\n",
    "        \n",
    "        #geoLocation\n",
    "        hotel_location = link_soup.find(\"a\", id=\"hotel_sidebar_static_map\")\n",
    "        hotel_location = [float(s) for s in hotel_location['data-atlas-latlng'].split(',')]\n",
    "        hotel[\"location_x\"]= hotel_location[0]\n",
    "        hotel[\"location_y\"] = hotel_location[1]\n",
    "\n",
    "        #number_of_reviews\n",
    "        hotel_reviews = link_soup.find(\"div\", class_=\"d8eab2cf7f c90c0a70d3 db63693c62\")\n",
    "        hotel[\"reviews\"] = [int(s) for s in hotel_reviews.text.split() if s.isdigit()][0]\n",
    "        \n",
    "        #rating_average\n",
    "        hotel[\"rating\"] = float(link_soup.find(\"div\", class_=\"b5cd09854e d10a6220b4\").text.replace(\",\",\".\"))\n",
    "        \n",
    "        #rating_by_type_of_service\n",
    "        hotel_cats_rating = link_soup.find_all(\"div\", class_=\"ee746850b6 b8eef6afe1\")\n",
    "        hotel[\"staff\"] = float(hotel_cats_rating[0].text.replace(\",\",\".\"))\n",
    "        hotel[\"facilities\"] = float(hotel_cats_rating[1].text.replace(\",\",\".\"))\n",
    "        hotel[\"cleanliness\"] = float(hotel_cats_rating[2].text.replace(\",\",\".\"))\n",
    "        hotel[\"comfort\"] = float(hotel_cats_rating[3].text.replace(\",\",\".\"))\n",
    "        hotel[\"money_value\"] = float(hotel_cats_rating[4].text.replace(\",\",\".\"))\n",
    "        hotel[\"location\"] = float(hotel_cats_rating[5].text.replace(\",\",\".\"))\n",
    "        hotel[\"wifi\"] = float(hotel_cats_rating[6].text.replace(\",\",\".\"))\n",
    "        hotel[\"night_price\"] = float(link_soup.find(\"span\", class_=\"prco-valign-middle-helper\").text[4:].replace(\" \",\"\"))\n",
    "\n",
    "        hotels.append(hotel)\n",
    "    except:\n",
    "        errors+=1\n",
    "        continue"
   ]
  },
  {
   "cell_type": "markdown",
   "id": "29c7efb2",
   "metadata": {},
   "source": [
    "### Convert the hotels list into a pandas dataframe and save it as a csv file"
   ]
  },
  {
   "cell_type": "code",
   "execution_count": null,
   "id": "70a9a464",
   "metadata": {},
   "outputs": [],
   "source": [
    "df = pd.DataFrame(hotels)\n",
    "df.to_csv('hotels.csv', index=False, header=True)"
   ]
  }
 ],
 "metadata": {
  "kernelspec": {
   "display_name": "Python 3 (ipykernel)",
   "language": "python",
   "name": "python3"
  },
  "language_info": {
   "codemirror_mode": {
    "name": "ipython",
    "version": 3
   },
   "file_extension": ".py",
   "mimetype": "text/x-python",
   "name": "python",
   "nbconvert_exporter": "python",
   "pygments_lexer": "ipython3",
   "version": "3.9.12"
  }
 },
 "nbformat": 4,
 "nbformat_minor": 5
}
